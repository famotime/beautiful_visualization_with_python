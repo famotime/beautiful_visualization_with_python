{
    "metadata": {
        "language_info": {
            "codemirror_mode": {
                "name": "ipython",
                "version": 3
            },
            "file_extension": ".py",
            "mimetype": "text/x-python",
            "name": "python",
            "nbconvert_exporter": "python",
            "pygments_lexer": "ipython3",
            "version": "3.8.3-final"
        },
        "orig_nbformat": 2,
        "kernelspec": {
            "name": "python383jvsc74a57bd0075549f13574e1aca6913e78434794224e56ba9a2b6b56df748acec3703e0c30",
            "display_name": "Python 3.8.3 64-bit (conda)"
        }
    },
    "nbformat": 4,
    "nbformat_minor": 2,
    "cells": [
        {
            "cell_type": "code",
            "execution_count": 1,
            "metadata": {},
            "outputs": [
                {
                    "output_type": "error",
                    "ename": "ModuleNotFoundError",
                    "evalue": "No module named 'skmisc'",
                    "traceback": [
                        "\u001b[1;31m---------------------------------------------------------------------------\u001b[0m",
                        "\u001b[1;31mModuleNotFoundError\u001b[0m                       Traceback (most recent call last)",
                        "\u001b[1;32m<ipython-input-1-f2897a3099a5>\u001b[0m in \u001b[0;36m<module>\u001b[1;34m\u001b[0m\n\u001b[0;32m      2\u001b[0m \u001b[1;32mimport\u001b[0m \u001b[0mpandas\u001b[0m \u001b[1;32mas\u001b[0m \u001b[0mpd\u001b[0m\u001b[1;33m\u001b[0m\u001b[1;33m\u001b[0m\u001b[0m\n\u001b[0;32m      3\u001b[0m \u001b[1;32mimport\u001b[0m \u001b[0mnumpy\u001b[0m \u001b[1;32mas\u001b[0m \u001b[0mnp\u001b[0m\u001b[1;33m\u001b[0m\u001b[1;33m\u001b[0m\u001b[0m\n\u001b[1;32m----> 4\u001b[1;33m \u001b[1;32mfrom\u001b[0m \u001b[0mskmisc\u001b[0m\u001b[1;33m.\u001b[0m\u001b[0mloess\u001b[0m \u001b[1;32mimport\u001b[0m \u001b[0mloess\u001b[0m \u001b[1;32mas\u001b[0m \u001b[0mloess_klass\u001b[0m\u001b[1;33m\u001b[0m\u001b[1;33m\u001b[0m\u001b[0m\n\u001b[0m\u001b[0;32m      5\u001b[0m \u001b[1;33m\u001b[0m\u001b[0m\n\u001b[0;32m      6\u001b[0m \u001b[1;33m\u001b[0m\u001b[0m\n",
                        "\u001b[1;31mModuleNotFoundError\u001b[0m: No module named 'skmisc'"
                    ]
                }
            ],
            "source": [
                "from plotnine import *\n",
                "import pandas as pd\n",
                "import numpy as np\n",
                "from skmisc.loess import loess as loess_klass\n",
                "\n",
                "\n",
                "filename = 'Facet_Data.csv'\n",
                "file = open(filename, errors='ignore')  # encoding=\"utf_8_sig'\",\n",
                "df = pd.read_csv(file)\n",
                "df.head()\n",
                "df.info()\n"
            ]
        },
        {
            "cell_type": "code",
            "execution_count": null,
            "metadata": {},
            "outputs": [],
            "source": [
                "# --------------------------- (a) 列分面的散点图 -----------------------------------------------------\n",
                "\n",
                "base_plot = (ggplot(df, aes(x='tau', y='SOD', fill='Class')) +\n",
                "             geom_point(size=3, shape='o', colour=\"black\", show_legend=False) +\n",
                "             # stat_smooth(method = 'loess',show_legend=False)+\n",
                "             scale_fill_hue(s=0.99, l=0.65, h=0.0417, color_space='husl') +\n",
                "             facet_wrap('~ Class'))\n",
                "print(base_plot)\n"
            ]
        },
        {
            "cell_type": "code",
            "execution_count": null,
            "metadata": {},
            "outputs": [],
            "source": [
                "# --------------------------- (b) 列分面的带拟合曲线的散点图-----------------------------------------------------\n",
                "base_plot = (ggplot(df, aes(x='tau', y='SOD', fill='Class')) +\n",
                "             geom_point(size=2, shape='o', fill='black', colour=\"black\", alpha=0.5, show_legend=False) +\n",
                "             stat_smooth(method='loess', show_legend=False, alpha=0.7) +\n",
                "             scale_fill_hue(s=0.99, l=0.65, h=0.0417, color_space='husl') +\n",
                "             facet_wrap('~ Class'))\n",
                "print(base_plot)\n"
            ]
        },
        {
            "cell_type": "code",
            "execution_count": null,
            "metadata": {},
            "outputs": [],
            "source": [
                "# -------------------------(a) 列分面的气泡图 ----------------------------------------------------\n",
                "base_plot = (ggplot(df, aes(x='tau', y='SOD', fill='Class', size='age')) +\n",
                "             # 其气泡的颜色填充由Class映射，大小由age映射\n",
                "             geom_point(shape='o', colour=\"black\", alpha=0.7) +\n",
                "             scale_fill_hue(s=0.99, l=0.65, h=0.0417, color_space='husl') +\n",
                "             # 设置气泡类型为空心的圆圈，边框颜色为黑色，填充颜色透明度为0.7\n",
                "             facet_wrap('~ Class'))  # 类别Class为列变量\n",
                "print(base_plot)\n"
            ]
        },
        {
            "cell_type": "code",
            "execution_count": null,
            "metadata": {},
            "outputs": [],
            "source": [
                "# ---------------------------------- (b) 列分面的带颜色映射的气泡图-----------------------------------------------------\n",
                "\n",
                "base_plot = (ggplot(df, aes(x='tau', y='SOD', fill='age', size='age')) +\n",
                "             geom_point(shape='o', colour=\"black\", alpha=0.95) +\n",
                "             scale_fill_gradient2(low=\"#00A08A\", mid=\"white\", high=\"#FF0000\", midpoint=df['age'].mean()) +\n",
                "             facet_wrap('~ Class'))\n",
                "print(base_plot)\n"
            ]
        },
        {
            "cell_type": "code",
            "execution_count": null,
            "metadata": {},
            "outputs": [],
            "source": [
                "# ------------------------------图9-2-4 矩阵分面气泡图-----------------------------------------------\n",
                "df['gender'] = df['gender'].astype('category')\n",
                "df['gender'].cat.categories = ['Female', 'Male']\n",
                "base_plot = (ggplot(df, aes(x='tau', y='SOD', fill='Class', size='age')) +\n",
                "             # 其气泡的颜色填充由Class映射，大小由age映射\n",
                "             geom_point(shape='o', colour=\"black\", alpha=0.7) +\n",
                "             scale_fill_manual(values=(\"#FF0000\", \"#00A08A\", \"#F2AD00\")) +\n",
                "             # scale_fill_hue(s = 0.99, l = 0.65, h=0.0417,color_space='husl')+\n",
                "             # 设置气泡类型为空心的圆圈，边框颜色为黑色，填充颜色透明度为0.7\n",
                "             facet_grid('gender ~ Class'))  # 性别Gender为行变量、类别Class为列变量\n",
                "print(base_plot)\n"
            ]
        }
    ]
}