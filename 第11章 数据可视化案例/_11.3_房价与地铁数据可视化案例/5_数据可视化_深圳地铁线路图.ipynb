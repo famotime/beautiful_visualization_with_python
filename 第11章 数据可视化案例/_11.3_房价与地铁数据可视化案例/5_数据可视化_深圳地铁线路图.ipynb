{
    "metadata": {
        "language_info": {
            "codemirror_mode": {
                "name": "ipython",
                "version": 3
            },
            "file_extension": ".py",
            "mimetype": "text/x-python",
            "name": "python",
            "nbconvert_exporter": "python",
            "pygments_lexer": "ipython3",
            "version": 3
        },
        "orig_nbformat": 2
    },
    "nbformat": 4,
    "nbformat_minor": 2,
    "cells": [
        {
            "cell_type": "code",
            "execution_count": null,
            "metadata": {},
            "outputs": [],
            "source": [
                "import pandas as pd\n",
                "import numpy as np\n",
                "from plotnine import *\n",
                "from plotnine.data import *\n",
                "\n",
                "\n",
                "file = open('ShenzhenSubway_StationHousingPrice.csv')\n",
                "mydata_station=pd.read_csv(file)\n",
                "\n",
                "file = open('ShenzhenSubway_Path.csv')\n",
                "mydata_Path=pd.read_csv(file)\n",
                "\n",
                "mydata_Path['Subway_Num']=pd.Categorical(mydata_Path['Subway_Num'])\n",
                "mydata_station['Subway_Num']=pd.Categorical(mydata_station['Subway_Num'])\n",
                ""
            ]
        },
        {
            "cell_type": "code",
            "execution_count": null,
            "metadata": {},
            "outputs": [],
            "source": [
                "#------------------------------------图11-3-3. 深圳市示意地铁线路图.----------------------------------------------\n",
                "base_plot=(ggplot()+\n",
                "  geom_path (mydata_Path,aes(x='x',y='y',group='Subway_Num',colour='Subway_Num'), size=1)+\n",
                "  geom_point(mydata_station,aes(x='x',y='y',group='Subway_Num',colour='Subway_Num'),shape='o',size=3,fill=\"white\")+\n",
                "  xlab(\"long\")+\n",
                "  ylab(\"lat\"))\n",
                "\n",
                "print(base_plot)\n",
                ""
            ]
        },
        {
            "cell_type": "code",
            "execution_count": null,
            "metadata": {},
            "outputs": [],
            "source": [
                "#----------------------------------图11-3-9. 深圳市地铁线路房价分布图.----------------------------------------------\n",
                "Price_max=np.max(mydata_station['Unit_Price']) # 89503.92558\n",
                "Price_min=np.min(mydata_station['Unit_Price'])\n",
                "\n",
                "mydata_station['Unit_Price2']=pd.cut(mydata_station['Unit_Price'],\n",
                "              bins=[0,30000,40000,50000,60000,70000,80000,90000],\n",
                "              labels=[\" <=30000\",\"30000~40000\",\"40000~50000\",\"50000~60000\",\"60000~70000\",\"70000~80000\",\"80000~90000\"])\n",
                "\n",
                "base_plot=(ggplot()+\n",
                "  geom_path (mydata_Path,aes(x='x',y='y',group='Subway_Num',colour='Subway_Num'), size=1)+\n",
                "  geom_point(mydata_station,aes(x='x',y='y',group='Subway_Num2',size='Unit_Price2',fill='Unit_Price2'),shape='o')+\n",
                "  #guides(fill = guide_legend((title=\"二手房均价(平方米)\")),\n",
                "  #       size = guide_legend((title=\"二手房均价(平方米)\")))+\n",
                "  theme_void()+\n",
                "  theme(\n",
                "    figure_size = (11, 11),\n",
                "    dpi = 58\n",
                "))\n",
                "print(base_plot)\n",
                ""
            ]
        },
        {
            "cell_type": "code",
            "execution_count": null,
            "metadata": {},
            "outputs": [],
            "source": [
                "#-------------------------------------图11-3-8. 楼盘分布散点地图.--------------------------------------------------\n",
                "file = open('ShenzhenHousing_Price_WithLocation.csv')\n",
                "mydata_house=pd.read_csv(file)\n",
                "file.close()\n",
                "base_plot=(ggplot()+\n",
                "  geom_point(mydata_house,aes(x='longitude',y='latitude',fill='unit_price'),shape='o',size=1,alpha=0.8,color='none')+\n",
                "  geom_path (mydata_station,aes(x='long',y='lat',group='Subway_Num'), size=0.5,linejoin = \"bevel\", lineend = \"square\")+\n",
                "  geom_point(mydata_station,aes(x='long',y='lat'),shape='o',size=2,fill=\"white\",color='black',stroke=0.1)+\n",
                "  scale_fill_cmap(name = 'RdYlGn')+\n",
                "  xlab(\"long\")+\n",
                "  ylab(\"lat\"))\n",
                "print(base_plot)\n"
            ]
        }
    ]
}