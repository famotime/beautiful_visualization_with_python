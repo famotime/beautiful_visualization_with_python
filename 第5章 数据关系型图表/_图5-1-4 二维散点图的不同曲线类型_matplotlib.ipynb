{
    "metadata": {
        "language_info": {
            "codemirror_mode": {
                "name": "ipython",
                "version": 3
            },
            "file_extension": ".py",
            "mimetype": "text/x-python",
            "name": "python",
            "nbconvert_exporter": "python",
            "pygments_lexer": "ipython3",
            "version": "3.8.3-final"
        },
        "orig_nbformat": 2,
        "kernelspec": {
            "name": "python383jvsc74a57bd0075549f13574e1aca6913e78434794224e56ba9a2b6b56df748acec3703e0c30",
            "display_name": "Python 3.8.3 64-bit (conda)"
        }
    },
    "nbformat": 4,
    "nbformat_minor": 2,
    "cells": [
        {
            "cell_type": "code",
            "execution_count": 1,
            "metadata": {},
            "outputs": [
                {
                    "output_type": "error",
                    "ename": "ModuleNotFoundError",
                    "evalue": "No module named 'skmisc'",
                    "traceback": [
                        "\u001b[1;31m---------------------------------------------------------------------------\u001b[0m",
                        "\u001b[1;31mModuleNotFoundError\u001b[0m                       Traceback (most recent call last)",
                        "\u001b[1;32m<ipython-input-1-8f0b5f75c6ff>\u001b[0m in \u001b[0;36m<module>\u001b[1;34m\u001b[0m\n\u001b[0;32m      3\u001b[0m \u001b[1;32mimport\u001b[0m \u001b[0mnumpy\u001b[0m \u001b[1;32mas\u001b[0m \u001b[0mnp\u001b[0m\u001b[1;33m\u001b[0m\u001b[1;33m\u001b[0m\u001b[0m\n\u001b[0;32m      4\u001b[0m \u001b[1;32mfrom\u001b[0m \u001b[0mplotnine\u001b[0m \u001b[1;32mimport\u001b[0m \u001b[1;33m*\u001b[0m\u001b[1;33m\u001b[0m\u001b[1;33m\u001b[0m\u001b[0m\n\u001b[1;32m----> 5\u001b[1;33m \u001b[1;32mfrom\u001b[0m \u001b[0mskmisc\u001b[0m\u001b[1;33m.\u001b[0m\u001b[0mloess\u001b[0m \u001b[1;32mimport\u001b[0m \u001b[0mloess\u001b[0m  \u001b[1;31m# 提供loess smoothing\u001b[0m\u001b[1;33m\u001b[0m\u001b[1;33m\u001b[0m\u001b[0m\n\u001b[0m\u001b[0;32m      6\u001b[0m \u001b[1;33m\u001b[0m\u001b[0m\n\u001b[0;32m      7\u001b[0m \u001b[1;33m\u001b[0m\u001b[0m\n",
                        "\u001b[1;31mModuleNotFoundError\u001b[0m: No module named 'skmisc'"
                    ]
                }
            ],
            "source": [
                "import matplotlib.pyplot as plt\n",
                "import pandas as pd\n",
                "import numpy as np\n",
                "from plotnine import *\n",
                "from skmisc.loess import loess  # 提供loess smoothing\n",
                "\n",
                "\n",
                "df = pd.read_csv('Scatter_Data.csv')\n",
                "df\n"
            ]
        },
        {
            "source": [
                "## 图(f) loess数据平滑曲线"
            ],
            "cell_type": "markdown",
            "metadata": {}
        },
        {
            "cell_type": "code",
            "execution_count": null,
            "metadata": {},
            "outputs": [],
            "source": [
                "l = loess(df['x'], df['y'])\n",
                "l.fit()\n",
                "pred = l.predict(df['x'], stderror=True)\n",
                "conf = pred.confidence()\n",
                "\n",
                "y_fit = pred.values\n",
                "ll = conf.lower\n",
                "ul = conf.upper\n",
                "\n",
                "fig = plt.figure(figsize=(5, 5))\n",
                "plt.scatter(df['x'], df['y'], s=30, c='black')\n",
                "plt.plot(df['x'], y_fit, color='r', linewidth=2, label='polyfit values')\n",
                "plt.fill_between(df['x'], ll, ul, facecolor='r',\n",
                "                 edgecolor='none', interpolate=True, alpha=.33)\n",
                "plt.show()\n"
            ]
        },
        {
            "source": [
                "## 图(b): 线性拟合曲线"
            ],
            "cell_type": "markdown",
            "metadata": {}
        },
        {
            "cell_type": "code",
            "execution_count": null,
            "metadata": {},
            "outputs": [],
            "source": [
                "fun = np.polyfit(df['x'], df['y'], 1)\n",
                "poly = np.poly1d(fun)\n",
                "print(poly)  # 打印出拟合函数\n",
                "y_fit = poly(df['x'])  # 拟合y值\n",
                "\n",
                "\n",
                "fig = plt.figure(figsize=(5, 5))\n",
                "plt.scatter(df['x'], df['y'], s=30, c='black')\n",
                "plt.plot(df['x'], y_fit, color='r', linewidth=2, label='polyfit values')\n"
            ]
        }
    ]
}